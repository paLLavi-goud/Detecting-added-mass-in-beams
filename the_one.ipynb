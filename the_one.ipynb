{
 "cells": [
  {
   "cell_type": "code",
   "execution_count": 3,
   "metadata": {},
   "outputs": [
    {
     "name": "stdout",
     "output_type": "stream",
     "text": [
      "Requirement already satisfied: keras in c:\\users\\faris\\anaconda3\\lib\\site-packages (2.13.1)\n",
      "Note: you may need to restart the kernel to use updated packages.\n"
     ]
    }
   ],
   "source": [
    "pip install keras"
   ]
  },
  {
   "cell_type": "code",
   "execution_count": 4,
   "metadata": {},
   "outputs": [],
   "source": [
    "import numpy as np\n",
    "import tensorflow as tf\n",
    "from tensorflow.keras.utils import to_categorical\n",
    "\n",
    "\n",
    "\n",
    "import pandas as pd\n",
    "import seaborn as sns\n",
    "import matplotlib.pyplot as plt\n",
    "from sklearn.metrics import classification_report\n",
    "from sklearn.model_selection import train_test_split\n",
    "from sklearn.metrics import f1_score\n",
    "from sklearn.metrics import confusion_matrix\n",
    "import tensorflow as tf\n",
    "\n",
    "from sklearn.utils import class_weight\n",
    "import warnings\n",
    "\n",
    "warnings.filterwarnings('ignore')"
   ]
  },
  {
   "cell_type": "code",
   "execution_count": 5,
   "metadata": {},
   "outputs": [],
   "source": [
    "from keras import optimizers, losses, activations, models\n",
    "from keras.callbacks import ModelCheckpoint, EarlyStopping, LearningRateScheduler, ReduceLROnPlateau\n",
    "from keras.layers import Dense, Input, Dropout, Convolution1D, MaxPool1D, GlobalMaxPool1D, GlobalAveragePooling1D, \\\n",
    "    concatenate\n",
    "from sklearn.metrics import accuracy_score, f1_score"
   ]
  },
  {
   "cell_type": "code",
   "execution_count": null,
   "metadata": {},
   "outputs": [],
   "source": []
  },
  {
   "cell_type": "code",
   "execution_count": 7,
   "metadata": {},
   "outputs": [],
   "source": [
    "df_0 = pd.read_csv(\"FFT/new1_pos_0.csv\",header=None)\n",
    "df_1 = pd.read_csv(\"FFT/new1_pos_1.csv\",header=None)\n",
    "df_2 = pd.read_csv(\"FFT/new1_pos_2.csv\",header=None)\n",
    "df_3 = pd.read_csv(\"FFT/new1_pos_3.csv\",header=None)\n",
    "df_4 = pd.read_csv(\"FFT/new1_pos_4.csv\",header=None)\n",
    "df_5 = pd.read_csv(\"FFT/new1_pos_5.csv\",header=None)\n",
    "df_6 = pd.read_csv(\"FFT/new1_pos_6.csv\",header=None)\n",
    "df_7 = pd.read_csv(\"FFT/new1_pos_7.csv\",header=None)\n",
    "df_8 = pd.read_csv(\"FFT/new1_pos_8.csv\",header=None)\n",
    "df_9 = pd.read_csv(\"FFT/new1_pos_9.csv\",header=None)\n",
    "df_10 = pd.read_csv(\"FFT/new1_pos_10.csv\",header=None)\n",
    "\n",
    "n_df_0 = pd.read_csv(\"FFT/new2_pos_0.csv\",header=None)\n",
    "n_df_1 = pd.read_csv(\"FFT/new2_pos_1.csv\",header=None)\n",
    "n_df_2 = pd.read_csv(\"FFT/new2_pos_2.csv\",header=None)\n",
    "n_df_3 = pd.read_csv(\"FFT/new2_pos_3.csv\",header=None)\n",
    "n_df_4 = pd.read_csv(\"FFT/new2_pos_4.csv\",header=None)\n",
    "n_df_5 = pd.read_csv(\"FFT/new2_pos_5.csv\",header=None)\n",
    "n_df_6 = pd.read_csv(\"FFT/new2_pos_6.csv\",header=None)\n",
    "n_df_7 = pd.read_csv(\"FFT/new2_pos_7.csv\",header=None)\n",
    "n_df_8 = pd.read_csv(\"FFT/new2_pos_8.csv\",header=None)\n",
    "n_df_9 = pd.read_csv(\"FFT/new2_pos_9.csv\",header=None)\n",
    "n_df_10 = pd.read_csv(\"FFT/new2_pos_10.csv\",header=None)\n",
    "\n",
    "df_new_0 = pd.read_csv(\"New_data_Final/FFT/new1_pos_0_new.csv\",header=None)\n",
    "df_new_8 = pd.read_csv(\"New_data_Final/FFT/new1_pos_8_new.csv\",header=None)\n",
    "df_new_9 = pd.read_csv(\"New_data_Final/FFT/new1_pos_9_new.csv\",header=None)\n",
    "df_new_10 = pd.read_csv(\"New_data_Final/FFT/new1_pos_10_new.csv\",header=None)\n",
    "df_new_copper_wire = pd.read_csv(\"New_data_Final/FFT/new1_pos_copper_wire_new.csv\",header=None)\n",
    "df_new_sample1 = pd.read_csv(\"New_data_Final/FFT/new1_pos_sample1_new.csv\",header=None)\n",
    "\n",
    "n_df_new_0 = pd.read_csv(\"New_data_Final/FFT/new2_pos_0_new.csv\",header=None)\n",
    "n_df_new_8 = pd.read_csv(\"New_data_Final/FFT/new2_pos_8_new.csv\",header=None)\n",
    "n_df_new_9 = pd.read_csv(\"New_data_Final/FFT/new2_pos_9_new.csv\",header=None)\n",
    "n_df_new_10 = pd.read_csv(\"New_data_Final/FFT/new2_pos_10_new.csv\",header=None)\n",
    "n_df_new_copper_wire = pd.read_csv(\"New_data_Final/FFT/new2_pos_copper_wire_new.csv\",header=None)\n",
    "n_df_new_sample1 = pd.read_csv(\"New_data_Final/FFT/new2_pos_sample1_new.csv\",header=None)\n",
    "\n",
    "n_y = pd.read_csv(\"y_n.csv\",header=None)\n",
    "new_y = pd.read_csv(\"y_n.csv\",header=None)\n",
    "new_y_0 = pd.read_csv(\"New_data_Final/y_0.csv\",header=None)\n",
    "new_y_8 = pd.read_csv(\"New_data_Final/y_8.csv\",header=None)\n",
    "new_y_9 = pd.read_csv(\"New_data_Final/y_9.csv\",header=None)\n",
    "new_y_10 = pd.read_csv(\"New_data_Final/y_10.csv\",header=None)\n",
    "new_y_copper_wire = pd.read_csv(\"New_data_Final/y_copper_wire.csv\",header=None)\n",
    "new_y_sample1 = pd.read_csv(\"New_data_Final/y_sample1.csv\",header=None)\n",
    "\n",
    "y = pd.concat([n_y,new_y,new_y_0,new_y_8,new_y_9,new_y_10,new_y_0,new_y_8,new_y_9,new_y_10],axis=1)\n",
    "y = y.T\n",
    "df = pd.concat([df_0, df_1, df_2, df_3, df_4, df_5, df_6, df_7, df_8, df_9, df_10,n_df_0,n_df_1,n_df_2,n_df_3,n_df_4,n_df_5,n_df_6,n_df_7,n_df_8,n_df_9,n_df_10,df_new_0,df_new_8,df_new_9,df_new_10,n_df_new_0,n_df_new_8,n_df_new_9,n_df_new_10],axis=1)\n",
    "df = df[:][:256]\n",
    "X = df.T"
   ]
  },
  {
   "cell_type": "code",
   "execution_count": 8,
   "metadata": {},
   "outputs": [
    {
     "name": "stdout",
     "output_type": "stream",
     "text": [
      "(2710, 256)\n",
      "(2710, 1)\n"
     ]
    }
   ],
   "source": [
    "df_copper = pd.concat([df_new_copper_wire,n_df_new_copper_wire],axis=1)\n",
    "y_copper = pd.concat([new_y_copper_wire,new_y_copper_wire],axis=1)\n",
    "df_copper = df_copper[:][:256]\n",
    "df_copper = df_copper.T\n",
    "y_copper = y_copper.T\n",
    "\n",
    "df_sample1 = pd.concat([df_new_sample1,n_df_new_sample1],axis=1)\n",
    "y_sample1 = pd.concat([new_y_sample1,new_y_sample1],axis=1)\n",
    "df_sample1 = df_sample1[:][:256]\n",
    "df_sample1 = df_sample1.T\n",
    "y_sample1 = y_sample1.T\n",
    "\n",
    "print(X.shape)\n",
    "print(y.shape)"
   ]
  },
  {
   "cell_type": "code",
   "execution_count": 9,
   "metadata": {},
   "outputs": [],
   "source": [
    "from sklearn.model_selection import train_test_split\n",
    "x_train, x_test, y_train, y_test = train_test_split(X, y, test_size=0.20,shuffle=True)"
   ]
  },
  {
   "cell_type": "code",
   "execution_count": 10,
   "metadata": {},
   "outputs": [],
   "source": [
    "from keras import backend as K"
   ]
  },
  {
   "cell_type": "code",
   "execution_count": 11,
   "metadata": {},
   "outputs": [],
   "source": [
    "import keras\n",
    "from keras.models import Sequential\n",
    "from keras.layers import Dense, Dropout, Flatten\n",
    "from keras.layers import Conv2D, MaxPooling2D"
   ]
  },
  {
   "cell_type": "code",
   "execution_count": 12,
   "metadata": {},
   "outputs": [],
   "source": [
    "batch_size = 100\n",
    "num_classes = 1\n",
    "epochs = 2000\n",
    "\n",
    "# input image dimensions\n",
    "img_rows, img_cols = 16, 16\n",
    "\n",
    "x_train = np.array(x_train)\n",
    "y_train = np.array(y_train)\n",
    "x_test = np.array(x_test)\n",
    "y_test = np.array(y_test)"
   ]
  },
  {
   "cell_type": "code",
   "execution_count": 13,
   "metadata": {},
   "outputs": [],
   "source": [
    "y_train = y_train /11\n",
    "y_test = y_test /11"
   ]
  },
  {
   "cell_type": "code",
   "execution_count": 14,
   "metadata": {},
   "outputs": [],
   "source": [
    "from sklearn.preprocessing import MinMaxScaler\n",
    "scaler = MinMaxScaler()\n",
    "scaler.fit(x_train)\n",
    "x_train = scaler.transform(x_train)\n",
    "x_test = scaler.transform(x_test)"
   ]
  },
  {
   "cell_type": "code",
   "execution_count": 15,
   "metadata": {},
   "outputs": [],
   "source": [
    "\n",
    "\n",
    "if K.image_data_format() == 'channels_first':\n",
    "    x_train = x_train.reshape(x_train.shape[0], 1, img_rows, img_cols)\n",
    "    x_test = x_test.reshape(x_test.shape[0], 1, img_rows, img_cols)\n",
    "    input_shape = (1, img_rows, img_cols)\n",
    "else:\n",
    "    x_train = x_train.reshape(x_train.shape[0], img_rows, img_cols, 1)\n",
    "    x_test = x_test.reshape(x_test.shape[0], img_rows, img_cols, 1)\n",
    "    input_shape = (img_rows, img_cols, 1)"
   ]
  },
  {
   "cell_type": "code",
   "execution_count": 16,
   "metadata": {},
   "outputs": [],
   "source": [
    "x_train = x_train.astype('float32')\n",
    "x_test = x_test.astype('float32')"
   ]
  },
  {
   "cell_type": "code",
   "execution_count": 17,
   "metadata": {},
   "outputs": [
    {
     "name": "stdout",
     "output_type": "stream",
     "text": [
      "x_train shape: (542, 16, 16, 1)\n",
      "2168 train samples\n",
      "542 test samples\n"
     ]
    }
   ],
   "source": [
    "print('x_train shape:', x_test.shape)\n",
    "print(x_train.shape[0], 'train samples')\n",
    "print(x_test.shape[0], 'test samples')"
   ]
  },
  {
   "cell_type": "code",
   "execution_count": 18,
   "metadata": {},
   "outputs": [],
   "source": [
    "# convert class vectors to binary class matrices\n",
    "#y_train = keras.utils.to_categorical(y_train, num_classes)\n",
    "#y_test = keras.utils.to_categorical(y_test, num_classes)"
   ]
  },
  {
   "cell_type": "code",
   "execution_count": null,
   "metadata": {},
   "outputs": [
    {
     "name": "stderr",
     "output_type": "stream",
     "text": [
      "WARNING:absl:`lr` is deprecated in Keras optimizer, please use `learning_rate` or use the legacy optimizer, e.g.,tf.keras.optimizers.legacy.Adam.\n"
     ]
    },
    {
     "name": "stdout",
     "output_type": "stream",
     "text": [
      "Epoch 1/2000\n",
      "22/22 [==============================] - 28s 1s/step - loss: 0.2231 - mean_squared_error: 0.2231 - val_loss: 0.1341 - val_mean_squared_error: 0.1341\n",
      "Epoch 2/2000\n",
      "22/22 [==============================] - 26s 1s/step - loss: 0.1014 - mean_squared_error: 0.1014 - val_loss: 0.0835 - val_mean_squared_error: 0.0835\n",
      "Epoch 3/2000\n",
      "22/22 [==============================] - 28s 1s/step - loss: 0.0877 - mean_squared_error: 0.0877 - val_loss: 0.0795 - val_mean_squared_error: 0.0795\n",
      "Epoch 4/2000\n",
      "22/22 [==============================] - 28s 1s/step - loss: 0.0783 - mean_squared_error: 0.0783 - val_loss: 0.0694 - val_mean_squared_error: 0.0694\n",
      "Epoch 5/2000\n",
      "22/22 [==============================] - 28s 1s/step - loss: 0.0682 - mean_squared_error: 0.0682 - val_loss: 0.0455 - val_mean_squared_error: 0.0455\n",
      "Epoch 6/2000\n",
      " 4/22 [====>.........................] - ETA: 21s - loss: 0.0549 - mean_squared_error: 0.0549"
     ]
    }
   ],
   "source": [
    "\n",
    "model = Sequential()\n",
    "model.add(Conv2D(256, kernel_size=(3, 3),\n",
    "                 activation='relu',\n",
    "                 input_shape=input_shape))\n",
    "model.add(Conv2D(512, (3, 3), activation='relu'))\n",
    "model.add(MaxPooling2D(pool_size=(2, 2)))\n",
    "model.add(Dropout(0.5))\n",
    "model.add(Conv2D(512, (3, 3), activation='relu'))\n",
    "model.add(MaxPooling2D(pool_size=(2, 2)))\n",
    "model.add(Dropout(0.5))\n",
    "model.add(Flatten())\n",
    "model.add(Dense(256, activation='relu'))\n",
    "model.add(Dropout(0.5))\n",
    "model.add(Dense(num_classes, activation='linear'))\n",
    "\n",
    "model.compile(loss=keras.losses.mean_squared_error,\n",
    "              optimizer=keras.optimizers.Adam(lr=0.0001),\n",
    "              metrics=['mean_squared_error'])\n",
    "\n",
    "history = model.fit(x_train, y_train,\n",
    "                    batch_size=batch_size,\n",
    "                    epochs=epochs,\n",
    "                    verbose=1,\n",
    "                    validation_data=(x_test, y_test))\n",
    "score = model.evaluate(x_test, y_test, verbose=0)\n",
    "print('Test loss:', score[0])\n",
    "print('Test accuracy:', score[1])"
   ]
  },
  {
   "cell_type": "code",
   "execution_count": null,
   "metadata": {},
   "outputs": [],
   "source": [
    "from matplotlib import pyplot\n",
    "pyplot.title('Loss')\n",
    "pyplot.plot(history.history['loss'], label='train')\n",
    "pyplot.plot(history.history['val_loss'], label='test')\n",
    "pyplot.legend()"
   ]
  },
  {
   "cell_type": "code",
   "execution_count": null,
   "metadata": {},
   "outputs": [],
   "source": [
    "pyplot.title('accuracy')\n",
    "pyplot.plot(history.history['mean_squared_error'], label='train')\n",
    "pyplot.plot(history.history['val_mean_squared_error'], label='test')\n",
    "pyplot.legend()\n",
    "pyplot.show()"
   ]
  },
  {
   "cell_type": "code",
   "execution_count": null,
   "metadata": {},
   "outputs": [],
   "source": [
    "x_train1, x_test1, y_train1, y_test1 = train_test_split(X, y, test_size=0.20)"
   ]
  },
  {
   "cell_type": "code",
   "execution_count": null,
   "metadata": {},
   "outputs": [],
   "source": [
    "x_train = np.array(x_train1)\n",
    "y_train = np.array(y_train1)\n",
    "x_test = np.array(x_test1)\n",
    "y_test = np.array(y_test1)\n",
    "y_train = y_train /11\n",
    "y_test = y_test /11\n",
    "x_train = scaler.transform(x_train)\n",
    "x_test = scaler.transform(x_test)\n",
    "\n",
    "if K.image_data_format() == 'channels_first':\n",
    "    x_train = x_train.reshape(x_train.shape[0], 1, img_rows, img_cols)\n",
    "    x_test = x_test.reshape(x_test.shape[0], 1, img_rows, img_cols)\n",
    "    input_shape = (1, img_rows, img_cols)\n",
    "else:\n",
    "    x_train = x_train.reshape(x_train.shape[0], img_rows, img_cols, 1)\n",
    "    x_test = x_test.reshape(x_test.shape[0], img_rows, img_cols, 1)\n",
    "    input_shape = (img_rows, img_cols, 1)\n",
    "\n",
    "x_train = x_train.astype('float32')\n",
    "_test = x_test.astype('float32')"
   ]
  },
  {
   "cell_type": "code",
   "execution_count": null,
   "metadata": {},
   "outputs": [],
   "source": [
    "model_prediction = model.predict(x_test)"
   ]
  },
  {
   "cell_type": "code",
   "execution_count": null,
   "metadata": {
    "scrolled": false
   },
   "outputs": [],
   "source": [
    "\n",
    "n_y = pd.read_csv(\"new1_y_n.csv\",header=None)\n",
    "new_y = pd.read_csv(\"new1_y_n.csv\",header=None)\n",
    "y = pd.concat([n_y,new_y],axis=1)\n",
    "y = y.T\n",
    "df = pd.concat([df_0, df_1, df_2, df_3, df_4, df_5, df_6, df_7, df_8, df_9, df_10,n_df_0,n_df_1,n_df_2,n_df_3,n_df_4,n_df_5,n_df_6,n_df_7,n_df_8,n_df_9,n_df_10],axis=1)\n",
    "df = df[:][:256]\n",
    "X = df.T\n",
    "%matplotlib inline\n",
    "plt.figure(figsize=[15,6])\n",
    "plt.scatter(y_test,model_prediction,color='red')\n",
    "plt.plot([0,1,1.1],[0,1,1.1],alpha=0.35,linewidth=3,color='black')"
   ]
  },
  {
   "cell_type": "code",
   "execution_count": null,
   "metadata": {},
   "outputs": [],
   "source": [
    "plt.hist(y_train,bins=30,alpha=0.75,label='Test labels')\n",
    "plt.hist(model_prediction,bins=30,alpha=0.5,label='Model Predictions')\n",
    "plt.legend()\n",
    "plt.show()"
   ]
  },
  {
   "cell_type": "code",
   "execution_count": null,
   "metadata": {},
   "outputs": [],
   "source": [
    "ar = np.arange(len(model_prediction)) # just as an example array\n",
    "plt.plot(ar, model_prediction, 'x')"
   ]
  },
  {
   "cell_type": "code",
   "execution_count": null,
   "metadata": {},
   "outputs": [],
   "source": [
    "%matplotlib inline\n",
    "plt.figure(figsize=[15,6])\n",
    "plt.scatter(y_test*11,model_prediction*10,color='red')\n",
    "plt.plot([0,1,2,3,4,5,6,7,8,9,10,11],alpha=0.35,linewidth=3,color='black')"
   ]
  },
  {
   "cell_type": "code",
   "execution_count": null,
   "metadata": {},
   "outputs": [],
   "source": [
    "# 32,64,128,16 - 0.25,0.25,0.25 , 16x16 (1500) gives 0.0062, 0.0175\n",
    "# 64,128,128,16 - 0.25,0.25,0.25 , 16x16 (1500) gives 0.0058, 0.0094\n",
    "# 128,128,128,16 - 0.25,0.25,0.25 , 16x16 (1500) gives 0.005,0.0128\n",
    "# 128,128,128,32 - 0.25,0.25,0.25 , 16x16 (1500) gives 0.003,0.0137 - best one\n",
    "# 128,512,512,128 - 0.25,0.25,0.25 , 16x16 (1500) gives 0.0009, 0.0131\n",
    "# 128,256,256,128 - 0.25,0.25,0.25 , 16x16 (1500) gives 0.0008, 0.0107\n",
    "# 128,128,128,128 - 0.25,0.25,0.25 , 16x16 (1500) gives 0.0009, 0.0159\n",
    "# 128,256,256,128 - 0.25,0.5,0.5 , 16x16 (1500) gives 0.002, 0.009"
   ]
  },
  {
   "cell_type": "code",
   "execution_count": null,
   "metadata": {},
   "outputs": [],
   "source": [
    "x_test = scaler.transform(df_sample1)\n",
    "y_sample1 = y_sample1 /11\n",
    "if K.image_data_format() == 'channels_first':\n",
    "    x_test = x_test.reshape(x_test.shape[0], 1, img_rows, img_cols)\n",
    "    input_shape = (1, img_rows, img_cols)\n",
    "else:\n",
    "    x_test = x_test.reshape(x_test.shape[0], img_rows, img_cols, 1)\n",
    "    input_shape = (img_rows, img_cols, 1)\n",
    "\n",
    "x_test = x_test.astype('float32')"
   ]
  },
  {
   "cell_type": "code",
   "execution_count": null,
   "metadata": {},
   "outputs": [],
   "source": [
    "model_prediction_copper = model.predict(x_test)"
   ]
  },
  {
   "cell_type": "code",
   "execution_count": null,
   "metadata": {},
   "outputs": [],
   "source": [
    "%matplotlib inline\n",
    "plt.figure(figsize=[15,6])\n",
    "plt.scatter(y_sample1,model_prediction_copper,color='red')\n",
    "plt.plot([0,1,1.1],[0,1,1.1],alpha=0.35,linewidth=3,color='black')"
   ]
  },
  {
   "cell_type": "code",
   "execution_count": null,
   "metadata": {},
   "outputs": [],
   "source": []
  }
 ],
 "metadata": {
  "kernelspec": {
   "display_name": "Python 3 (ipykernel)",
   "language": "python",
   "name": "python3"
  },
  "language_info": {
   "codemirror_mode": {
    "name": "ipython",
    "version": 3
   },
   "file_extension": ".py",
   "mimetype": "text/x-python",
   "name": "python",
   "nbconvert_exporter": "python",
   "pygments_lexer": "ipython3",
   "version": "3.11.3"
  }
 },
 "nbformat": 4,
 "nbformat_minor": 2
}
